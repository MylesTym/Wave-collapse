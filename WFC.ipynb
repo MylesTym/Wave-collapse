{
 "cells": [
  {
   "cell_type": "code",
   "execution_count": 56,
   "id": "42e0292e-da0f-48d3-85e1-4fa58015ee86",
   "metadata": {},
   "outputs": [],
   "source": [
    "%matplotlib inline\n",
    "import random\n",
    "import matplotlib.pyplot as plt\n",
    "import numpy as np\n",
    "import matplotlib.colors as mcolors"
   ]
  },
  {
   "cell_type": "code",
   "execution_count": null,
   "id": "6768722f",
   "metadata": {},
   "outputs": [],
   "source": [
    "# Define tiles with neighbor rules\n",
    "\n",
    "TILES = {\n",
    "    \"grass\": {\n",
    "        \"color\": \"green\",\n",
    "        \"rules\": {\n",
    "            \"up\": {\"grass\", \"road\"},\n",
    "            \"down\": {\"grass\", \"road\"},\n",
    "            \"left\": {\"grass\", \"road\"},\n",
    "            \"right\": {\"grass\", \"road\"}\n",
    "        }\n",
    "    },\n",
    "    \"road\": {\n",
    "        \"color\": \"gray\",\n",
    "        \"rules\": {\n",
    "            \"up\": {\"road\", \"grass\"},\n",
    "            \"down\": {\"road\", \"grass\"},\n",
    "            \"left\": {\"road\", \"grass\"},\n",
    "            \"right\": {\"road\", \"grass\"}\n",
    "        }\n",
    "    },\n",
    "    \"water\": {\n",
    "        \"color\": \"blue\",\n",
    "        \"rules\": {\n",
    "            \"up\": {\"water\", \"grass\"},\n",
    "            \"down\": {\"water\", \"grass\"},\n",
    "            \"left\": {\"water\", \"grass\"},\n",
    "            \"right\": {\"water\", \"grass\"}\n",
    "        }\n",
    "    },\n",
    "    \"wall\": {\n",
    "        \"color\": \"black\",\n",
    "        \"rules\": {\n",
    "            \"up\": {\"wall\", \"road\", \"grass\"},\n",
    "            \"down\": {\"wall\", \"grass\"},\n",
    "            \"left\": {\"Wall\", \"grass\"},\n",
    "            \"right\": {\"wall\", \"grass\"}\n",
    "        }\n",
    "    }\n",
    "}"
   ]
  },
  {
   "cell_type": "code",
   "execution_count": 58,
   "id": "a964b01e",
   "metadata": {},
   "outputs": [],
   "source": [
    "class Cell:\n",
    "    def __init__(self, options):\n",
    "        self.collapsed = False\n",
    "        self.options = options[:]\n",
    "\n",
    "def create_grid(w, h, tile_names):\n",
    "    return [[Cell(tile_names) for _ in range(w)] for _ in range(h)]\n",
    "\n",
    "tile_names = list(TILES.keys())\n",
    "GRID_W, GRID_H = 10, 10\n",
    "grid = create_grid(GRID_W, GRID_H, tile_names)"
   ]
  },
  {
   "cell_type": "code",
   "execution_count": 59,
   "id": "41079954",
   "metadata": {},
   "outputs": [],
   "source": [
    "def get_lowest_entropy_cell(grid):\n",
    "    min_entropy = float('inf')\n",
    "    canidates = []\n",
    "    for y, row in enumerate(grid):\n",
    "        for x, cell in enumerate(row):\n",
    "            if not cell.collapsed:\n",
    "                entropy = len(cell.options)\n",
    "                if entropy < min_entropy:\n",
    "                    min_entropy = entropy\n",
    "                    canidates = [(x, y)]\n",
    "                elif entropy == min_entropy:\n",
    "                    canidates.append((x, y))\n",
    "    return random.choice(canidates) if canidates else None\n",
    "\n",
    "def collapse_cell(cell):\n",
    "    cell.collapsed = True\n",
    "    cell.options = [random.choice(cell.options)]"
   ]
  },
  {
   "cell_type": "code",
   "execution_count": 60,
   "id": "192b4048",
   "metadata": {},
   "outputs": [],
   "source": [
    "def get_neighbors(x, y, w, h):\n",
    "    directions = {\n",
    "        \"up\":    (0, -1),\n",
    "        \"down\":  (0, 1),\n",
    "        \"left\":  (-1, 0),\n",
    "        \"right\": (1, 0)\n",
    "    }\n",
    "    for dir, (dx, dy) in directions.items():\n",
    "        nx, ny = x + dx, y + dy\n",
    "        if 0 <= nx < w and 0 <= ny < h:\n",
    "            yield dir, nx, ny"
   ]
  },
  {
   "cell_type": "code",
   "execution_count": 61,
   "id": "4950d47d",
   "metadata": {},
   "outputs": [],
   "source": [
    "def propagate(grid):\n",
    "    w, h = len(grid[0]), len(grid)\n",
    "    changed = True\n",
    "    while changed:\n",
    "        changed = False\n",
    "        for y in range(h):\n",
    "            for x in range(w):\n",
    "                cell = grid[y][x]\n",
    "                if not cell.collapsed:\n",
    "                    continue\n",
    "                tile_name = cell.options[0]\n",
    "                rules = TILES[tile_name][\"rules\"]\n",
    "\n",
    "                for dir, nx, ny in get_neighbors(x, y, w, h):\n",
    "                    neighbor = grid[ny][nx]\n",
    "                    if neighbor.collapsed:\n",
    "                        continue\n",
    "                    valid = rules[dir]\n",
    "                    new_opts = [opt for opt in neighbor.options if opt in valid]\n",
    "                    if set(new_opts) != set(neighbor.options):\n",
    "                        neighbor.options = new_opts\n",
    "                        changed = True\n",
    "                        if len(new_opts) == 1:\n",
    "                            collapse_cell(neighbor)"
   ]
  },
  {
   "cell_type": "code",
   "execution_count": 62,
   "id": "73798f95",
   "metadata": {},
   "outputs": [],
   "source": [
    "def step(grid):\n",
    "    pos = get_lowest_entropy_cell(grid)\n",
    "    if pos:\n",
    "        x, y = pos\n",
    "        collapse_cell(grid[y][x])\n",
    "        propagate(grid)\n",
    "        render(grid)\n",
    "    else:\n",
    "        print(\"Collapse Complete.\")\n",
    "\n",
    "def run_full_collapse(grid):\n",
    "    while True:\n",
    "        pos = get_lowest_entropy_cell(grid)\n",
    "        if not pos:\n",
    "            break\n",
    "        x, y = pos\n",
    "        collapse_cell(grid[y][x])\n",
    "        propagate(grid)\n",
    "    render(grid)"
   ]
  },
  {
   "cell_type": "code",
   "execution_count": 69,
   "id": "c394d233",
   "metadata": {},
   "outputs": [],
   "source": [
    "def is_fully_collpased(grid):\n",
    "    for row in grid:\n",
    "        for cell in row:\n",
    "            if not cell.collapsed:\n",
    "                return False\n",
    "    return True"
   ]
  },
  {
   "cell_type": "code",
   "execution_count": 63,
   "id": "ad5cf255",
   "metadata": {},
   "outputs": [
    {
     "data": {
      "image/png": "[encoded data removed]",
      "text/plain": [
       "<Figure size 500x500 with 1 Axes>"
      ]
     },
     "metadata": {},
     "output_type": "display_data"
    }
   ],
   "source": [
    "def render(grid):\n",
    "    h, w = len(grid), len(grid[0])\n",
    "    color_grid = np.zeros((h, w, 3))\n",
    "\n",
    "    for y in range(h):\n",
    "        for x in range(w):\n",
    "            cell = grid[y][x]\n",
    "            if cell.collapsed:\n",
    "                tile = TILES[cell.options[0]]\n",
    "                color = mcolors.to_rgb(tile[\"color\"])\n",
    "            else:\n",
    "                color = (0.3, 0.3, 0.3)\n",
    "            color_grid[y, x] = color\n",
    "\n",
    "\n",
    "\n",
    "    plt.figure(figsize=(5, 5))\n",
    "    plt.imshow(color_grid)\n",
    "    plt.axis('off')\n",
    "    plt.show()\n",
    "\n",
    "render(grid)"
   ]
  },
  {
   "cell_type": "code",
   "execution_count": 71,
   "id": "d9eef088",
   "metadata": {},
   "outputs": [
    {
     "data": {
      "image/png": "[encoded data removed]",
      "text/plain": [
       "<Figure size 500x500 with 1 Axes>"
      ]
     },
     "metadata": {},
     "output_type": "display_data"
    },
    {
     "name": "stdout",
     "output_type": "stream",
     "text": [
      "Grid fully collpased.\n"
     ]
    }
   ],
   "source": [
    "tile_names = list (TILES.keys())\n",
    "GRID_W, GRID_H = 10, 10\n",
    "grid = create_grid(GRID_W, GRID_H, tile_names)\n",
    "\n",
    "run_full_collapse(grid)\n",
    "if is_fully_collpased(grid):\n",
    "    print(\"Grid fully collpased.\")\n",
    "else:\n",
    "    print(\"Grid has uncollapsed cells.\")"
   ]
  }
 ],
 "metadata": {
  "kernelspec": {
   "display_name": "base",
   "language": "python",
   "name": "python3"
  },
  "language_info": {
   "codemirror_mode": {
    "name": "ipython",
    "version": 3
   },
   "file_extension": ".py",
   "mimetype": "text/x-python",
   "name": "python",
   "nbconvert_exporter": "python",
   "pygments_lexer": "ipython3",
   "version": "3.12.7"
  }
 },
 "nbformat": 4,
 "nbformat_minor": 5
}
